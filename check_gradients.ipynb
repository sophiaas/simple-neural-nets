{
 "cells": [
  {
   "cell_type": "markdown",
   "metadata": {},
   "source": [
    "# Numerical Gradient Checking"
   ]
  },
  {
   "cell_type": "markdown",
   "metadata": {},
   "source": [
    "We would highly recommend looking at `neural_networks.grad_check.check_gradients` and making sure you understand how numerical gradient checking is being carried out. This function is used in the notebook to check the gradients of the neural network layers you write. Make sure to check the gradient of a layer after finishing its implementation.\n",
    "\n",
    "The function returns the relative error of the numerical gradient (approximated using finite differences) with respect to the analytical gradient (computed via backpropagation). Correct implementations should get very small errors, usually less than `1e-8` for 64-bit float matrices (the default)."
   ]
  },
  {
   "cell_type": "code",
   "execution_count": null,
   "metadata": {},
   "outputs": [],
   "source": [
    "%load_ext autoreload\n",
    "%autoreload 2\n",
    "\n",
    "import numpy as np\n",
    "from neural_networks.utils.grad_check import check_gradients\n",
    "from neural_networks.layers import FullyConnected, Elman, Conv2D\n",
    "from neural_networks.activations import Linear, Sigmoid, TanH, ReLU, SoftMax"
   ]
  },
  {
   "cell_type": "markdown",
   "metadata": {},
   "source": [
    "## Gradient Checks for Activation Functions"
   ]
  },
  {
   "cell_type": "markdown",
   "metadata": {},
   "source": [
    "### Linear Activation"
   ]
  },
  {
   "cell_type": "code",
   "execution_count": null,
   "metadata": {},
   "outputs": [],
   "source": [
    "X = np.random.randn(2, 3)\n",
    "dLdY = np.random.randn(2, 3)\n",
    "\n",
    "# initialize a fully connected layer\n",
    "# and perform a forward and backward pass\n",
    "linear_activation = Linear()\n",
    "_ = linear_activation.forward(X)\n",
    "grad = linear_activation.backward(X, dLdY)\n",
    "\n",
    "# check the gradients w.r.t. each parameter\n",
    "print(\n",
    "    f\"Relative error for linear activation:\",\n",
    "    check_gradients(\n",
    "        fn=linear_activation.forward,  # the function we are checking\n",
    "        grad=grad,  # the analytically computed gradient\n",
    "        x=X,        # the variable w.r.t. which we are taking the gradient\n",
    "        dLdf=dLdY,  # gradient at previous layer\n",
    "    )\n",
    ")"
   ]
  },
  {
   "cell_type": "markdown",
   "metadata": {},
   "source": [
    "### Sigmoid Activation"
   ]
  },
  {
   "cell_type": "code",
   "execution_count": null,
   "metadata": {},
   "outputs": [],
   "source": [
    "X = np.random.randn(2, 3)\n",
    "dLdY = np.random.randn(2, 3)\n",
    "\n",
    "# initialize a fully connected layer\n",
    "# and perform a forward and backward pass\n",
    "sigmoid_activation = Sigmoid()\n",
    "_ = sigmoid_activation.forward(X)\n",
    "grad = sigmoid_activation.backward(X, dLdY)\n",
    "\n",
    "# check the gradients w.r.t. each parameter\n",
    "print(\n",
    "    f\"Relative error for sigmoid activation:\",\n",
    "    check_gradients(\n",
    "        fn=sigmoid_activation.forward,  # the function we are checking\n",
    "        grad=grad,  # the analytically computed gradient\n",
    "        x=X,        # the variable w.r.t. which we are taking the gradient\n",
    "        dLdf=dLdY,  # gradient at previous layer\n",
    "    )\n",
    ")"
   ]
  },
  {
   "cell_type": "markdown",
   "metadata": {},
   "source": [
    "### Tanh Activation"
   ]
  },
  {
   "cell_type": "code",
   "execution_count": null,
   "metadata": {},
   "outputs": [],
   "source": [
    "X = np.random.randn(2, 3)\n",
    "dLdY = np.random.randn(2, 3)\n",
    "\n",
    "# initialize a fully connected layer\n",
    "# and perform a forward and backward pass\n",
    "tanh_activation = TanH()\n",
    "_ = tanh_activation.forward(X)\n",
    "grad = tanh_activation.backward(X, dLdY)\n",
    "\n",
    "# check the gradients w.r.t. each parameter\n",
    "print(\n",
    "    f\"Relative error for tanh activation:\",\n",
    "    check_gradients(\n",
    "        fn=tanh_activation.forward,  # the function we are checking\n",
    "        grad=grad,  # the analytically computed gradient\n",
    "        x=X,        # the variable w.r.t. which we are taking the gradient\n",
    "        dLdf=dLdY,  # gradient at previous layer\n",
    "    )\n",
    ")"
   ]
  },
  {
   "cell_type": "markdown",
   "metadata": {},
   "source": [
    "### ReLU Activation"
   ]
  },
  {
   "cell_type": "code",
   "execution_count": null,
   "metadata": {},
   "outputs": [],
   "source": [
    "X = np.random.randn(2, 3)\n",
    "dLdY = np.random.randn(2, 3)\n",
    "\n",
    "# initialize a fully connected layer\n",
    "# and perform a forward and backward pass\n",
    "relu_activation = ReLU()\n",
    "out = relu_activation.forward(X)\n",
    "grad = relu_activation.backward(X, dLdY)\n",
    "\n",
    "# check the gradients w.r.t. each parameter\n",
    "print(\n",
    "    f\"Relative error for relu activation:\",\n",
    "    check_gradients(\n",
    "        fn=relu_activation.forward,  # the function we are checking\n",
    "        grad=grad,  # the analytically computed gradient\n",
    "        x=X,        # the variable w.r.t. which we are taking the gradient\n",
    "        dLdf=dLdY,  # gradient at previous layer\n",
    "    )\n",
    ")"
   ]
  },
  {
   "cell_type": "markdown",
   "metadata": {},
   "source": [
    "### Softmax Activation"
   ]
  },
  {
   "cell_type": "code",
   "execution_count": null,
   "metadata": {},
   "outputs": [],
   "source": [
    "X = np.random.randn(2, 3)\n",
    "dLdY = np.random.randn(2, 3)\n",
    "\n",
    "# initialize a fully connected layer\n",
    "# and perform a forward and backward pass\n",
    "softmax_activation = SoftMax()\n",
    "_ = softmax_activation.forward(X)\n",
    "grad = softmax_activation.backward(X, dLdY)\n",
    "\n",
    "# check the gradients w.r.t. each parameter\n",
    "print(\n",
    "    f\"Relative error for softmax activation:\",\n",
    "    check_gradients(\n",
    "        fn=softmax_activation.forward,  # the function we are checking\n",
    "        grad=grad,  # the analytically computed gradient\n",
    "        x=X,        # the variable w.r.t. which we are taking the gradient\n",
    "        dLdf=dLdY,  # gradient at previous layer\n",
    "    )\n",
    ")"
   ]
  },
  {
   "cell_type": "markdown",
   "metadata": {},
   "source": [
    "## Gradient Checks for Full Layers (Linear Activations)"
   ]
  },
  {
   "cell_type": "markdown",
   "metadata": {},
   "source": [
    "### Fully Connected Layer"
   ]
  },
  {
   "cell_type": "code",
   "execution_count": null,
   "metadata": {},
   "outputs": [],
   "source": [
    "X = np.random.randn(2, 3)\n",
    "dLdY = np.random.randn(2, 4)\n",
    "\n",
    "# initialize a fully connected layer\n",
    "# and perform a forward and backward pass\n",
    "fc_layer = FullyConnected(n_out=4, activation=\"linear\")\n",
    "_ = fc_layer.forward(X)\n",
    "_ = fc_layer.backward(dLdY)\n",
    "\n",
    "# check the gradients w.r.t. each parameter\n",
    "for param in fc_layer.parameters:\n",
    "    print(\n",
    "        f\"Relative error for {param}:\",\n",
    "        check_gradients(\n",
    "            fn=fc_layer.forward_with_param(param, X),  # the function we are checking\n",
    "            grad=fc_layer.gradients[param],  # the analytically computed gradient\n",
    "            x=fc_layer.parameters[param],  # the variable w.r.t. which we are taking the gradient\n",
    "            dLdf=dLdY,                     # gradient at previous layer\n",
    "        )\n",
    "    )"
   ]
  },
  {
   "cell_type": "markdown",
   "metadata": {},
   "source": [
    "### Elman Recurrent Layer"
   ]
  },
  {
   "cell_type": "code",
   "execution_count": null,
   "metadata": {},
   "outputs": [],
   "source": [
    "X = np.random.randn(2, 3, 4)\n",
    "dLdY = np.random.randn(2, 5)\n",
    "\n",
    "# initialize a recurrent layer\n",
    "# and perform a forward and backward pass\n",
    "elman_layer = Elman(n_out=5, activation=\"linear\")\n",
    "_ = elman_layer.forward(X)\n",
    "_ = elman_layer.backward(dLdY)\n",
    "\n",
    "# check the gradients w.r.t. each parameter\n",
    "for param in elman_layer.parameters:\n",
    "    # check the gradient\n",
    "    print(\n",
    "        f\"Relative error for {param}:\",\n",
    "        check_gradients(\n",
    "            fn=elman_layer.forward_with_param(param, X),  # the function we are checking\n",
    "            grad=elman_layer.gradients[param],  # the analytically computed gradient\n",
    "            x=elman_layer.parameters[param],  # the variable w.r.t. which we are taking the gradient\n",
    "            dLdf=dLdY,                     # gradient at previous layer\n",
    "        )\n",
    "    )"
   ]
  },
  {
   "cell_type": "markdown",
   "metadata": {},
   "source": [
    "### Conv Layer"
   ]
  },
  {
   "cell_type": "code",
   "execution_count": null,
   "metadata": {},
   "outputs": [],
   "source": [
    "X = np.random.randn(2, 5, 6, 7)\n",
    "dLdY = np.random.randn(2, 5, 6, 4)\n",
    "\n",
    "# initialize a fully connected layer\n",
    "# and perform a forward and backward pass\n",
    "conv_layer = Conv2D(\n",
    "    n_out=4,\n",
    "    kernel_shape=(3, 3),\n",
    "    activation=\"linear\",\n",
    "    weight_init=\"uniform\",\n",
    "    pad=\"same\",\n",
    ")\n",
    "_ = conv_layer.forward(X)\n",
    "_ = conv_layer.backward(dLdY)\n",
    "\n",
    "# check the gradients w.r.t. each parameter\n",
    "for param in conv_layer.parameters:\n",
    "    print(\n",
    "        f\"Relative error for {param}:\",\n",
    "        check_gradients(\n",
    "            fn=conv_layer.forward_with_param(param, X),  # the function we are checking\n",
    "            grad=conv_layer.gradients[param],  # the analytically computed gradient\n",
    "            x=conv_layer.parameters[param],  # the variable w.r.t. which we are taking the gradient\n",
    "            dLdf=dLdY,                     # gradient at previous layer\n",
    "        )\n",
    "    )"
   ]
  },
  {
   "cell_type": "code",
   "execution_count": null,
   "metadata": {},
   "outputs": [],
   "source": [
    "from neural_networks.losses import CrossEntropy\n",
    "\n",
    "num_pts = 5\n",
    "num_classes = 6\n",
    "\n",
    "# one-hot encoded y\n",
    "y_idxs = np.random.randint(0, num_classes, (num_pts,))\n",
    "y = np.zeros((num_pts, num_classes))\n",
    "y[range(num_pts), y_idxs] = 1\n",
    "\n",
    "# normalized predictions\n",
    "scores = np.random.uniform(0, 1, size=(num_pts, num_classes))\n",
    "y_hat = scores / scores.sum(axis=1, keepdims=True)\n",
    "\n",
    "cross_entropy_loss = CrossEntropy(\"cross_entropy\")\n",
    "\n",
    "def forward_fn(Y, Y_hat):    \n",
    "    def inner_forward(Y_hat):\n",
    "        return cross_entropy_loss.forward(Y, Y_hat)\n",
    "    return inner_forward\n",
    "\n",
    "loss = cross_entropy_loss.forward(y, y_hat)\n",
    "grad = cross_entropy_loss.backward(y, y_hat)\n",
    "\n",
    "print(\n",
    "    f\"Relative error for cross entropy loss:\",\n",
    "    check_gradients(\n",
    "        fn=forward_fn(y, y_hat),  # the function we are checking\n",
    "        grad=grad,  # the analytically computed gradient\n",
    "        x=y_hat,        # the variable w.r.t. which we are taking the gradient\n",
    "        dLdf=1,  # gradient at previous layer\n",
    "    )\n",
    ")"
   ]
  }
 ],
 "metadata": {
  "kernelspec": {
   "display_name": "Python 3",
   "language": "python",
   "name": "python3"
  },
  "language_info": {
   "codemirror_mode": {
    "name": "ipython",
    "version": 3
   },
   "file_extension": ".py",
   "mimetype": "text/x-python",
   "name": "python",
   "nbconvert_exporter": "python",
   "pygments_lexer": "ipython3",
   "version": "3.6.8"
  }
 },
 "nbformat": 4,
 "nbformat_minor": 2
}
