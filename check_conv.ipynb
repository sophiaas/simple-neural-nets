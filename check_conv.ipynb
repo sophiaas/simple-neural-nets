{
 "cells": [
  {
   "cell_type": "markdown",
   "metadata": {},
   "source": [
    "# Checking the Convolutional Layer Implementation\n",
    "This notebook will output garbage if you modify the methods `Conv2D.forward_faster` or `Conv2D.backward_faster`, so please **do not modify those methods**."
   ]
  },
  {
   "cell_type": "code",
   "execution_count": 1,
   "metadata": {},
   "outputs": [],
   "source": [
    "%load_ext autoreload\n",
    "%autoreload 2\n",
    "\n",
    "import numpy as np\n",
    "from neural_networks.utils.grad_check import check_gradients\n",
    "from neural_networks.layers import FullyConnected, Elman, Conv2D\n",
    "from neural_networks.activations import Linear, Sigmoid, TanH, ReLU, SoftMax"
   ]
  },
  {
   "cell_type": "code",
   "execution_count": 2,
   "metadata": {},
   "outputs": [
    {
     "name": "stdout",
     "output_type": "stream",
     "text": [
      "It is True that `Conv2D.forward` is correct.\n",
      "It is True that `Conv2D.backward` is correct.\n"
     ]
    }
   ],
   "source": [
    "X = np.random.randn(2, 5, 6, 7)\n",
    "dLdY = np.random.randn(2, 5, 6, 4)\n",
    "\n",
    "# initialize a fully connected layer\n",
    "# and perform a forward and backward pass\n",
    "conv_layer = Conv2D(\n",
    "    n_out=4,\n",
    "    kernel_shape=(3, 3),\n",
    "    activation=\"tanh\",\n",
    "    weight_init=\"uniform\",\n",
    "    pad=\"same\",\n",
    ")\n",
    "\n",
    "student_forward = conv_layer.forward(X)\n",
    "student_backward = conv_layer.backward(dLdY)\n",
    "\n",
    "staff_forward = conv_layer.forward_faster(X)\n",
    "staff_backward = conv_layer.backward_faster(dLdY)\n",
    "\n",
    "print(f\"It is {np.allclose(student_forward, staff_forward)} that `Conv2D.forward` is correct.\")\n",
    "print(f\"It is {np.allclose(student_backward, staff_backward)} that `Conv2D.backward` is correct.\")"
   ]
  }
 ],
 "metadata": {
  "kernelspec": {
   "display_name": "Python 3.7.6 64-bit ('visuaml': conda)",
   "language": "python",
   "name": "python37664bitvisuamlcondae56fb15e5a8748e08eb0cff7a7f19601"
  },
  "language_info": {
   "codemirror_mode": {
    "name": "ipython",
    "version": 3
   },
   "file_extension": ".py",
   "mimetype": "text/x-python",
   "name": "python",
   "nbconvert_exporter": "python",
   "pygments_lexer": "ipython3",
   "version": "3.7.6"
  }
 },
 "nbformat": 4,
 "nbformat_minor": 2
}
